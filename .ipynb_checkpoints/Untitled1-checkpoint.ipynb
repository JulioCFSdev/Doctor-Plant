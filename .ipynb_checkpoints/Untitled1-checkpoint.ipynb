{
 "cells": [
  {
   "cell_type": "code",
   "execution_count": null,
   "id": "b9775fb5-9963-4bfa-ba95-8f144de99b25",
   "metadata": {
    "jupyter": {
     "source_hidden": true
    },
    "tags": []
   },
   "outputs": [],
   "source": []
  },
  {
   "cell_type": "code",
   "execution_count": 1,
   "id": "9fe14fcd-c8cf-434f-81b4-4acefbda05a0",
   "metadata": {},
   "outputs": [
    {
     "name": "stdout",
     "output_type": "stream",
     "text": [
      "Requirement already satisfied: networkx in c:\\users\\julio\\anaconda3\\lib\\site-packages (2.8.4)\n",
      "Requirement already satisfied: matplotlib in c:\\users\\julio\\anaconda3\\lib\\site-packages (3.5.2)\n",
      "Requirement already satisfied: pyparsing>=2.2.1 in c:\\users\\julio\\anaconda3\\lib\\site-packages (from matplotlib) (3.0.9)\n",
      "Requirement already satisfied: packaging>=20.0 in c:\\users\\julio\\anaconda3\\lib\\site-packages (from matplotlib) (23.0)\n",
      "Requirement already satisfied: python-dateutil>=2.7 in c:\\users\\julio\\anaconda3\\lib\\site-packages (from matplotlib) (2.8.2)\n",
      "Requirement already satisfied: numpy>=1.17 in c:\\users\\julio\\anaconda3\\lib\\site-packages (from matplotlib) (1.24.2)\n",
      "Requirement already satisfied: pillow>=6.2.0 in c:\\users\\julio\\anaconda3\\lib\\site-packages (from matplotlib) (9.2.0)\n",
      "Requirement already satisfied: cycler>=0.10 in c:\\users\\julio\\anaconda3\\lib\\site-packages (from matplotlib) (0.11.0)\n",
      "Requirement already satisfied: kiwisolver>=1.0.1 in c:\\users\\julio\\anaconda3\\lib\\site-packages (from matplotlib) (1.4.2)\n",
      "Requirement already satisfied: fonttools>=4.22.0 in c:\\users\\julio\\anaconda3\\lib\\site-packages (from matplotlib) (4.25.0)\n",
      "Requirement already satisfied: six>=1.5 in c:\\users\\julio\\anaconda3\\lib\\site-packages (from python-dateutil>=2.7->matplotlib) (1.16.0)\n",
      "Note: you may need to restart the kernel to use updated packages.\n"
     ]
    }
   ],
   "source": [
    "pip install networkx matplotlib"
   ]
  },
  {
   "cell_type": "code",
   "execution_count": 2,
   "id": "f2ddf9e0-48f3-4933-9649-ecacc9ba3e88",
   "metadata": {},
   "outputs": [
    {
     "name": "stdout",
     "output_type": "stream",
     "text": [
      "2.8.4\n",
      "Name: networkx\n",
      "Version: 2.8.4\n",
      "Summary: Python package for creating and manipulating graphs and networks\n",
      "Home-page: https://networkx.org/\n",
      "Author: Aric Hagberg\n",
      "Author-email: hagberg@lanl.gov\n",
      "License: UNKNOWN\n",
      "Location: c:\\users\\julio\\anaconda3\\lib\\site-packages\n",
      "Requires: \n",
      "Required-by: scikit-image\n"
     ]
    }
   ],
   "source": [
    "import networkx as net\n",
    "print(nx.__version__)\n",
    "\n",
    "!pip show networkx"
   ]
  },
  {
   "cell_type": "code",
   "execution_count": 3,
   "id": "23698753-74a9-4161-b570-a5bdb0269628",
   "metadata": {},
   "outputs": [],
   "source": [
    "import random\n",
    "import matplotlib.pyplot as plt"
   ]
  },
  {
   "cell_type": "code",
   "execution_count": 4,
   "id": "d6728199-cc60-43d3-b236-98a07bab7c61",
   "metadata": {},
   "outputs": [],
   "source": [
    "def plot_maze_graph(maze):\n",
    "    G = nx.Graph()\n",
    "\n",
    "    width = len(maze[0])\n",
    "    height = len(maze)\n",
    "\n",
    "    for y in range(height):\n",
    "        for x in range(width):\n",
    "            if not maze[y][x]:  # Cell is a path\n",
    "                node = (x, y)\n",
    "                G.add_node(node)\n",
    "\n",
    "                neighbors = [(x+1, y), (x-1, y), (x, y+1), (x, y-1)]\n",
    "                for nx, ny in neighbors:\n",
    "                    if 0 <= nx < width and 0 <= ny < height and not maze[ny][nx]:\n",
    "                        neighbor_node = (nx, ny)\n",
    "                        G.add_edge(node, neighbor_node)\n",
    "\n",
    "    pos = {node: node for node in G.nodes()}\n",
    "\n",
    "    # Obtém as posições dos nós em um layout de grade\n",
    "    pos = {(x, y): (x, -y) for y in range(height) for x in range(width)}\n",
    "\n",
    "    # Configura a figura e o eixo\n",
    "    fig, ax = plt.subplots()\n",
    "\n",
    "    # Desenha os nós do grafo\n",
    "    nx.draw_networkx_nodes(G, pos, node_size=50, node_color='lightblue', ax=ax)\n",
    "\n",
    "    # Desenha as arestas do grafo\n",
    "    nx.draw_networkx_edges(G, pos, ax=ax)\n",
    "\n",
    "    # Remove os eixos do gráfico\n",
    "    ax.set_axis_off()\n",
    "\n",
    "    # Mostra a plotagem\n",
    "    plt.show()"
   ]
  },
  {
   "cell_type": "code",
   "execution_count": 5,
   "id": "5054868d-3e8b-4382-8eac-36e9265c487b",
   "metadata": {},
   "outputs": [],
   "source": [
    "def generate_maze(width, height):\n",
    "    def create_grid():\n",
    "        return [[True for _ in range(width)] for _ in range(height)]\n",
    "\n",
    "    def get_neighbors(x, y):\n",
    "        neighbors = [(x+1, y), (x-1, y), (x, y+1), (x, y-1)]\n",
    "        return [(nx, ny) for nx, ny in neighbors if 0 <= nx < width and 0 <= ny < height]\n",
    "\n",
    "    def depth_first_search(x, y):\n",
    "        visited.add((x, y))\n",
    "        grid[y][x] = False\n",
    "\n",
    "        neighbors = get_neighbors(x, y)\n",
    "        random.shuffle(neighbors)\n",
    "\n",
    "        for nx, ny in neighbors:\n",
    "            if (nx, ny) not in visited:\n",
    "                depth_first_search(nx, ny)\n",
    "\n",
    "    grid = create_grid()\n",
    "    start_x, start_y = random.randint(0, width - 1), random.randint(0, height - 1)\n",
    "    visited = set()\n",
    "\n",
    "    depth_first_search(start_x, start_y)\n",
    "\n",
    "    return grid\n",
    "\n",
    "def print_maze(maze):\n",
    "    for row in maze:\n",
    "        print(''.join('#' if cell else ' ') for cell in row)"
   ]
  },
  {
   "cell_type": "code",
   "execution_count": 6,
   "id": "cf414e24-262c-4545-875e-e4ea9281f53f",
   "metadata": {},
   "outputs": [
    {
     "name": "stdout",
     "output_type": "stream",
     "text": [
      "<generator object print_maze.<locals>.<genexpr> at 0x000002A44999C740>\n",
      "<generator object print_maze.<locals>.<genexpr> at 0x000002A44999C740>\n",
      "<generator object print_maze.<locals>.<genexpr> at 0x000002A44999C740>\n",
      "<generator object print_maze.<locals>.<genexpr> at 0x000002A44999C740>\n",
      "<generator object print_maze.<locals>.<genexpr> at 0x000002A44999C740>\n",
      "<generator object print_maze.<locals>.<genexpr> at 0x000002A44999C740>\n",
      "<generator object print_maze.<locals>.<genexpr> at 0x000002A44999C740>\n",
      "<generator object print_maze.<locals>.<genexpr> at 0x000002A44999C740>\n",
      "<generator object print_maze.<locals>.<genexpr> at 0x000002A44999C740>\n",
      "<generator object print_maze.<locals>.<genexpr> at 0x000002A44999C740>\n"
     ]
    },
    {
     "ename": "UnboundLocalError",
     "evalue": "local variable 'nx' referenced before assignment",
     "output_type": "error",
     "traceback": [
      "\u001b[1;31m---------------------------------------------------------------------------\u001b[0m",
      "\u001b[1;31mUnboundLocalError\u001b[0m                         Traceback (most recent call last)",
      "\u001b[1;32m~\\AppData\\Local\\Temp\\ipykernel_28720\\4268466788.py\u001b[0m in \u001b[0;36m<module>\u001b[1;34m\u001b[0m\n\u001b[0;32m      5\u001b[0m \u001b[0mprint_maze\u001b[0m\u001b[1;33m(\u001b[0m\u001b[0mmaze\u001b[0m\u001b[1;33m)\u001b[0m\u001b[1;33m\u001b[0m\u001b[1;33m\u001b[0m\u001b[0m\n\u001b[0;32m      6\u001b[0m \u001b[1;33m\u001b[0m\u001b[0m\n\u001b[1;32m----> 7\u001b[1;33m \u001b[0mplot_maze_graph\u001b[0m\u001b[1;33m(\u001b[0m\u001b[0mmaze\u001b[0m\u001b[1;33m)\u001b[0m\u001b[1;33m\u001b[0m\u001b[1;33m\u001b[0m\u001b[0m\n\u001b[0m",
      "\u001b[1;32m~\\AppData\\Local\\Temp\\ipykernel_28720\\2224156706.py\u001b[0m in \u001b[0;36mplot_maze_graph\u001b[1;34m(maze)\u001b[0m\n\u001b[0;32m      1\u001b[0m \u001b[1;32mdef\u001b[0m \u001b[0mplot_maze_graph\u001b[0m\u001b[1;33m(\u001b[0m\u001b[0mmaze\u001b[0m\u001b[1;33m)\u001b[0m\u001b[1;33m:\u001b[0m\u001b[1;33m\u001b[0m\u001b[1;33m\u001b[0m\u001b[0m\n\u001b[1;32m----> 2\u001b[1;33m     \u001b[0mG\u001b[0m \u001b[1;33m=\u001b[0m \u001b[0mnx\u001b[0m\u001b[1;33m.\u001b[0m\u001b[0mGraph\u001b[0m\u001b[1;33m(\u001b[0m\u001b[1;33m)\u001b[0m\u001b[1;33m\u001b[0m\u001b[1;33m\u001b[0m\u001b[0m\n\u001b[0m\u001b[0;32m      3\u001b[0m \u001b[1;33m\u001b[0m\u001b[0m\n\u001b[0;32m      4\u001b[0m     \u001b[0mwidth\u001b[0m \u001b[1;33m=\u001b[0m \u001b[0mlen\u001b[0m\u001b[1;33m(\u001b[0m\u001b[0mmaze\u001b[0m\u001b[1;33m[\u001b[0m\u001b[1;36m0\u001b[0m\u001b[1;33m]\u001b[0m\u001b[1;33m)\u001b[0m\u001b[1;33m\u001b[0m\u001b[1;33m\u001b[0m\u001b[0m\n\u001b[0;32m      5\u001b[0m     \u001b[0mheight\u001b[0m \u001b[1;33m=\u001b[0m \u001b[0mlen\u001b[0m\u001b[1;33m(\u001b[0m\u001b[0mmaze\u001b[0m\u001b[1;33m)\u001b[0m\u001b[1;33m\u001b[0m\u001b[1;33m\u001b[0m\u001b[0m\n",
      "\u001b[1;31mUnboundLocalError\u001b[0m: local variable 'nx' referenced before assignment"
     ]
    }
   ],
   "source": [
    "width = 10  # Defina o tamanho do labirinto (largura)\n",
    "height = 10  # Defina o tamanho do labirinto (altura)\n",
    "\n",
    "maze = generate_maze(width, height)\n",
    "print_maze(maze)\n",
    "\n",
    "plot_maze_graph(maze)"
   ]
  },
  {
   "cell_type": "code",
   "execution_count": null,
   "id": "5076e0f0-96f2-4491-9e9e-2344bb3e462e",
   "metadata": {},
   "outputs": [],
   "source": []
  },
  {
   "cell_type": "code",
   "execution_count": null,
   "id": "29a59db0-f07a-40ee-9cf8-7b0f147dec84",
   "metadata": {},
   "outputs": [],
   "source": []
  }
 ],
 "metadata": {
  "kernelspec": {
   "display_name": "Python 3 (ipykernel)",
   "language": "python",
   "name": "python3"
  },
  "language_info": {
   "codemirror_mode": {
    "name": "ipython",
    "version": 3
   },
   "file_extension": ".py",
   "mimetype": "text/x-python",
   "name": "python",
   "nbconvert_exporter": "python",
   "pygments_lexer": "ipython3",
   "version": "3.9.13"
  }
 },
 "nbformat": 4,
 "nbformat_minor": 5
}
